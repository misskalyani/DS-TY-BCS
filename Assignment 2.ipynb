{
 "cells": [
  {
   "cell_type": "code",
   "execution_count": 3,
   "id": "261c9f6e",
   "metadata": {},
   "outputs": [
    {
     "name": "stdout",
     "output_type": "stream",
     "text": [
      "Max =  3\n",
      "Max =  0\n"
     ]
    }
   ],
   "source": [
    "import numpy as np\n",
    "a=np.array([[0,1],[2,3]])\n",
    "print('Max = ',np.max(a))\n",
    "print('Max = ',np.min(a))"
   ]
  },
  {
   "cell_type": "code",
   "execution_count": 5,
   "id": "5e74259e",
   "metadata": {},
   "outputs": [
    {
     "name": "stdout",
     "output_type": "stream",
     "text": [
      "Euclidian Distance =  7.681145747868608\n"
     ]
    }
   ],
   "source": [
    "import numpy as np\n",
    "a1=np.array([[5,6],[8,9]])\n",
    "a2=np.array([[8,9],[3,5]])\n",
    "dis=np.linalg.norm(a1-a2)\n",
    "print(\"Euclidian Distance = \",dis)"
   ]
  },
  {
   "cell_type": "code",
   "execution_count": 13,
   "id": "1c7bb87d",
   "metadata": {},
   "outputs": [
    {
     "name": "stdout",
     "output_type": "stream",
     "text": [
      "   Values\n",
      "0      78\n",
      "1      90\n",
      "2      43\n",
      "3      67\n",
      "4      23\n",
      "5      98\n",
      "6      56\n",
      "7      45\n",
      "8      87\n",
      "Mean =  65.22222222222223\n",
      "Range =  75\n",
      "IQR =  42.0\n"
     ]
    }
   ],
   "source": [
    "import pandas as pd\n",
    "import numpy as np\n",
    "demo={'Values':[78,90,43,67,23,98,56,45,87]}\n",
    "df=pd.DataFrame(demo)\n",
    "print(df)\n",
    "print(\"Mean = \",np.mean(df['Values']))\n",
    "range=np.max(df['Values'])-np.min(df['Values'])\n",
    "print(\"Range = \",range)\n",
    "q3,q1=np.percentile(df['Values'],[75,25])\n",
    "iqr=q3-q1\n",
    "print('IQR = ',iqr)"
   ]
  },
  {
   "cell_type": "code",
   "execution_count": 14,
   "id": "0a41c3e1",
   "metadata": {},
   "outputs": [
    {
     "name": "stdout",
     "output_type": "stream",
     "text": [
      "Manhattan Distance =  12\n"
     ]
    }
   ],
   "source": [
    "#manhattan distance\n",
    "import numpy as np\n",
    "a=np.array([[3,4],[2,5]])\n",
    "b=np.array([[8,9],[4,5]])\n",
    "md=np.sum(np.abs(a-b))\n",
    "print(\"Manhattan Distance = \",md)"
   ]
  },
  {
   "cell_type": "code",
   "execution_count": 15,
   "id": "a59d9d0c",
   "metadata": {},
   "outputs": [
    {
     "name": "stdout",
     "output_type": "stream",
     "text": [
      "10\n"
     ]
    }
   ],
   "source": [
    "import numpy as np\n",
    "a=np.array([5,6,7])\n",
    "b=np.array([6,1,3])\n",
    "md=np.sum(np.abs(a-b))\n",
    "print(md)"
   ]
  },
  {
   "cell_type": "code",
   "execution_count": 17,
   "id": "639cf896",
   "metadata": {},
   "outputs": [
    {
     "name": "stdout",
     "output_type": "stream",
     "text": [
      "   Name  Percentage  Age\n",
      "0    om          89   12\n",
      "1   sai          54   34\n",
      "2   ram          32   45\n",
      "3  tanu          90   78\n",
      "4  puja          45   90\n",
      "       Percentage        Age\n",
      "count    5.000000   5.000000\n",
      "mean    62.000000  51.800000\n",
      "std     26.296388  31.987498\n",
      "min     32.000000  12.000000\n",
      "25%     45.000000  34.000000\n",
      "50%     54.000000  45.000000\n",
      "75%     89.000000  78.000000\n",
      "max     90.000000  90.000000\n"
     ]
    }
   ],
   "source": [
    "import pandas as pd\n",
    "student={'Name':['om','sai','ram','tanu','puja'],'Percentage':[89,54,32,90,45],'Age':[12,34,45,78,90]}\n",
    "df=pd.DataFrame(student)\n",
    "print(df)\n",
    "print(df.describe())"
   ]
  },
  {
   "cell_type": "code",
   "execution_count": null,
   "id": "91ca6084",
   "metadata": {},
   "outputs": [],
   "source": []
  }
 ],
 "metadata": {
  "kernelspec": {
   "display_name": "Python 3 (ipykernel)",
   "language": "python",
   "name": "python3"
  },
  "language_info": {
   "codemirror_mode": {
    "name": "ipython",
    "version": 3
   },
   "file_extension": ".py",
   "mimetype": "text/x-python",
   "name": "python",
   "nbconvert_exporter": "python",
   "pygments_lexer": "ipython3",
   "version": "3.12.4"
  }
 },
 "nbformat": 4,
 "nbformat_minor": 5
}
