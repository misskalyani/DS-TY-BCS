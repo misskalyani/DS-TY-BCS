{
 "cells": [
  {
   "cell_type": "code",
   "execution_count": 3,
   "id": "e75d266c",
   "metadata": {},
   "outputs": [
    {
     "name": "stdout",
     "output_type": "stream",
     "text": [
      "[[30 75 70]\n",
      " [80 90 20]\n",
      " [50 95 60]]\n",
      "\n",
      "\n",
      "63.333333333333336\n",
      "70.0\n",
      "\n",
      "\n"
     ]
    }
   ],
   "source": [
    "import numpy as np\n",
    "demo = np.array([[30,75,70],[80,90,20],[50,95,60]])\n",
    "print(demo)\n",
    "print('\\n')\n",
    "print(np.mean(demo))\n",
    "print(np.median(demo))\n",
    "print('\\n')"
   ]
  },
  {
   "cell_type": "code",
   "execution_count": 4,
   "id": "9fd76259",
   "metadata": {},
   "outputs": [
    {
     "name": "stdout",
     "output_type": "stream",
     "text": [
      "Name      RamShamMennaSeetaGeetaRakeshMadhav\n",
      "Age                                      181\n",
      "Rating                                 25.61\n",
      "dtype: object\n"
     ]
    }
   ],
   "source": [
    "import pandas as pd\n",
    "import numpy as np\n",
    "d={'Name':pd.Series(['Ram','Sham','Menna','Seeta','Geeta','Rakesh','Madhav']),\n",
    "    'Age':pd.Series([25,26,25,23,30,29,23]),\n",
    "     'Rating':pd.Series([4.23,3.24,3.98,2.56,3.20,4.6,3.8])}\n",
    "df=pd.DataFrame(d)\n",
    "print(df.sum())"
   ]
  },
  {
   "cell_type": "code",
   "execution_count": 5,
   "id": "9a79fae8",
   "metadata": {},
   "outputs": [
    {
     "name": "stdout",
     "output_type": "stream",
     "text": [
      "             Age    Rating\n",
      "count   7.000000  7.000000\n",
      "mean   25.857143  3.658571\n",
      "std     2.734262  0.698628\n",
      "min    23.000000  2.560000\n",
      "25%    24.000000  3.220000\n",
      "50%    25.000000  3.800000\n",
      "75%    27.500000  4.105000\n",
      "max    30.000000  4.600000\n"
     ]
    }
   ],
   "source": [
    "import pandas as pd\n",
    "import numpy as np\n",
    "md={'Name':pd.Series(['Ram','Sham','Meena','Seeta','Geeta','Rakesh','Madhav']),\n",
    "     'Age':pd.Series([25,26,25,23,30,29,23]),\n",
    "      'Rating':pd.Series([4.23,3.24,3.98,2.56,3.20,4.6,3.8])}\n",
    "df=pd.DataFrame(d)\n",
    "print(df.describe())"
   ]
  },
  {
   "cell_type": "code",
   "execution_count": 6,
   "id": "7a97c952",
   "metadata": {},
   "outputs": [
    {
     "name": "stdout",
     "output_type": "stream",
     "text": [
      "Standard Deviation Of Sample is 16.263455967290593 \n"
     ]
    }
   ],
   "source": [
    "import numpy as np\n",
    "data=np.array([13,52,44,32,30,0,36,45])\n",
    "print(\"Standard Deviation Of Sample is %s \"%(np.std(data)))"
   ]
  },
  {
   "cell_type": "code",
   "execution_count": 7,
   "id": "1a7db222",
   "metadata": {},
   "outputs": [
    {
     "name": "stdout",
     "output_type": "stream",
     "text": [
      "    Virat  Rohit\n",
      "0      92     89\n",
      "1      97     87\n",
      "2      85     67\n",
      "3      74     55\n",
      "4      71     47\n",
      "5      55     72\n",
      "6      85     76\n",
      "7      63     79\n",
      "8      42     44\n",
      "9      32     92\n",
      "10     71     99\n",
      "11     55     47\n",
      "\n",
      " Arithmetic Mean Values\n",
      "Score 1 =  68.5\n",
      "Score 2 =  71.16666666666667\n"
     ]
    }
   ],
   "source": [
    "import pandas as pd\n",
    "import scipy.stats as s\n",
    "score={'Virat':[92,97,85,74,71,55,85,63,42,32,71,55],'Rohit':[89,87,67,55,47,72,76,79,44,92,99,47]}\n",
    "df=pd.DataFrame(score)\n",
    "print(df)\n",
    "print(\"\\n Arithmetic Mean Values\")\n",
    "print(\"Score 1 = \",s.tmean(df[\"Virat\"].round(2)))\n",
    "print(\"Score 2 = \",s.tmean(df[\"Rohit\"].round(2)))"
   ]
  },
  {
   "cell_type": "code",
   "execution_count": 9,
   "id": "77aa05b9",
   "metadata": {},
   "outputs": [
    {
     "name": "stdout",
     "output_type": "stream",
     "text": [
      "\n",
      "Values Of Percentile Rank In The Distribution\n",
      "     Name  subject  Percentile_rank\n",
      "0    Ravi       92             0.75\n",
      "1   Veena       97             1.00\n",
      "2   Meena       85             0.50\n",
      "3  Rupali       74             0.25\n",
      "\n",
      "Measures of Dispersion And Position in the Distribution\n",
      "\n",
      "Value of Range in the Distribution =  23\n",
      "Value Of Standard Deviation in the Distribution =  9.967\n",
      "Value of Variance in the Distribution =  99.333\n"
     ]
    }
   ],
   "source": [
    "import pandas as pd\n",
    "from scipy.stats import iqr\n",
    "import matplotlib.pyplot as plt\n",
    "d={'Name':['Ravi','Veena','Meena','Rupali'],'subject':[92,97,85,74]}\n",
    "df=pd.DataFrame(d)\n",
    "df=pd.DataFrame(d)\n",
    "df['Percentile_rank']=df.subject.rank(pct=True)\n",
    "print(\"\\nValues Of Percentile Rank In The Distribution\")\n",
    "print(df)\n",
    "print(\"\\nMeasures of Dispersion And Position in the Distribution\")\n",
    "r=max(df[\"subject\"])-min(df[\"subject\"])\n",
    "print(\"\\nValue of Range in the Distribution = \",r)\n",
    "s=round(df[\"subject\"].std(),3)\n",
    "print(\"Value Of Standard Deviation in the Distribution = \",s)\n",
    "v=round(df[\"subject\"].var(),3)\n",
    "print(\"Value of Variance in the Distribution = \",v)"
   ]
  },
  {
   "cell_type": "code",
   "execution_count": 2,
   "id": "031b8926",
   "metadata": {},
   "outputs": [
    {
     "name": "stdout",
     "output_type": "stream",
     "text": [
      "7.0\n"
     ]
    }
   ],
   "source": [
    "import numpy as np\n",
    "mydata=np.array([24,29,20,22,24,26,30,20,31,26,38,44,47])\n",
    "q3,q1=np.percentile(mydata,[75,25])\n",
    "iqrvalue=q3-q1\n",
    "print(iqrvalue)"
   ]
  },
  {
   "cell_type": "code",
   "execution_count": null,
   "id": "639f862a",
   "metadata": {},
   "outputs": [],
   "source": []
  }
 ],
 "metadata": {
  "kernelspec": {
   "display_name": "Python 3 (ipykernel)",
   "language": "python",
   "name": "python3"
  },
  "language_info": {
   "codemirror_mode": {
    "name": "ipython",
    "version": 3
   },
   "file_extension": ".py",
   "mimetype": "text/x-python",
   "name": "python",
   "nbconvert_exporter": "python",
   "pygments_lexer": "ipython3",
   "version": "3.12.4"
  }
 },
 "nbformat": 4,
 "nbformat_minor": 5
}
